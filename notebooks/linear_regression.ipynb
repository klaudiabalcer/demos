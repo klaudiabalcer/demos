{
 "cells": [
  {
   "cell_type": "code",
   "outputs": [],
   "source": [
    "import pandas as pd\n",
    "import numpy as np\n",
    "import matplotlib.pyplot as plt\n",
    "import seaborn as sns\n",
    "\n",
    "import os, sys"
   ],
   "metadata": {
    "collapsed": false,
    "ExecuteTime": {
     "end_time": "2024-11-12T09:04:17.386742Z",
     "start_time": "2024-11-12T09:04:17.381296600Z"
    }
   },
   "id": "ba45da64b61a15cf",
   "execution_count": 1
  },
  {
   "cell_type": "code",
   "execution_count": 5,
   "id": "initial_id",
   "metadata": {
    "collapsed": true,
    "ExecuteTime": {
     "end_time": "2024-11-12T09:04:29.128836800Z",
     "start_time": "2024-11-12T09:04:29.117243200Z"
    }
   },
   "outputs": [
    {
     "data": {
      "text/plain": "True"
     },
     "execution_count": 5,
     "metadata": {},
     "output_type": "execute_result"
    }
   ],
   "source": [
    "data_directory = '../../../datasets/car_price/CarPrice_Assignment.csv'\n",
    "os.path.isfile(data_directory)"
   ]
  },
  {
   "cell_type": "code",
   "outputs": [],
   "source": [
    "data = pd.read_csv(data_directory) "
   ],
   "metadata": {
    "collapsed": false,
    "ExecuteTime": {
     "end_time": "2024-11-12T09:04:29.955331700Z",
     "start_time": "2024-11-12T09:04:29.936931Z"
    }
   },
   "id": "47c80b1eeaa51aa0",
   "execution_count": 6
  },
  {
   "cell_type": "code",
   "outputs": [
    {
     "data": {
      "text/plain": "0     two\n3    four\nName: doornumber, dtype: object"
     },
     "execution_count": 10,
     "metadata": {},
     "output_type": "execute_result"
    }
   ],
   "source": [
    "# data\n",
    "data['doornumber'].drop_duplicates()"
   ],
   "metadata": {
    "collapsed": false,
    "ExecuteTime": {
     "end_time": "2024-11-12T09:50:27.235394Z",
     "start_time": "2024-11-12T09:50:27.185514800Z"
    }
   },
   "id": "2d46a8825665ba3b",
   "execution_count": 10
  },
  {
   "cell_type": "code",
   "outputs": [
    {
     "data": {
      "text/plain": "     car_ID  symboling                   CarName fueltype aspiration  \\\n0         1          3        alfa-romero giulia      gas        std   \n1         2          3       alfa-romero stelvio      gas        std   \n2         3          1  alfa-romero Quadrifoglio      gas        std   \n3         4          2               audi 100 ls      gas        std   \n4         5          2                audi 100ls      gas        std   \n..      ...        ...                       ...      ...        ...   \n200     201         -1           volvo 145e (sw)      gas        std   \n201     202         -1               volvo 144ea      gas      turbo   \n202     203         -1               volvo 244dl      gas        std   \n203     204         -1                 volvo 246   diesel      turbo   \n204     205         -1               volvo 264gl      gas      turbo   \n\n         carbody drivewheel enginelocation  wheelbase  carlength  ...  \\\n0    convertible        rwd          front       88.6      168.8  ...   \n1    convertible        rwd          front       88.6      168.8  ...   \n2      hatchback        rwd          front       94.5      171.2  ...   \n3          sedan        fwd          front       99.8      176.6  ...   \n4          sedan        4wd          front       99.4      176.6  ...   \n..           ...        ...            ...        ...        ...  ...   \n200        sedan        rwd          front      109.1      188.8  ...   \n201        sedan        rwd          front      109.1      188.8  ...   \n202        sedan        rwd          front      109.1      188.8  ...   \n203        sedan        rwd          front      109.1      188.8  ...   \n204        sedan        rwd          front      109.1      188.8  ...   \n\n     boreratio  stroke  compressionratio horsepower peakrpm  citympg  \\\n0         3.47    2.68               9.0        111    5000       21   \n1         3.47    2.68               9.0        111    5000       21   \n2         2.68    3.47               9.0        154    5000       19   \n3         3.19    3.40              10.0        102    5500       24   \n4         3.19    3.40               8.0        115    5500       18   \n..         ...     ...               ...        ...     ...      ...   \n200       3.78    3.15               9.5        114    5400       23   \n201       3.78    3.15               8.7        160    5300       19   \n202       3.58    2.87               8.8        134    5500       18   \n203       3.01    3.40              23.0        106    4800       26   \n204       3.78    3.15               9.5        114    5400       19   \n\n    highwaympg    price  doornumber_four  doornumber_two  \n0           27  13495.0            False            True  \n1           27  16500.0            False            True  \n2           26  16500.0            False            True  \n3           30  13950.0             True           False  \n4           22  17450.0             True           False  \n..         ...      ...              ...             ...  \n200         28  16845.0             True           False  \n201         25  19045.0             True           False  \n202         23  21485.0             True           False  \n203         27  22470.0             True           False  \n204         25  22625.0             True           False  \n\n[205 rows x 27 columns]",
      "text/html": "<div>\n<style scoped>\n    .dataframe tbody tr th:only-of-type {\n        vertical-align: middle;\n    }\n\n    .dataframe tbody tr th {\n        vertical-align: top;\n    }\n\n    .dataframe thead th {\n        text-align: right;\n    }\n</style>\n<table border=\"1\" class=\"dataframe\">\n  <thead>\n    <tr style=\"text-align: right;\">\n      <th></th>\n      <th>car_ID</th>\n      <th>symboling</th>\n      <th>CarName</th>\n      <th>fueltype</th>\n      <th>aspiration</th>\n      <th>carbody</th>\n      <th>drivewheel</th>\n      <th>enginelocation</th>\n      <th>wheelbase</th>\n      <th>carlength</th>\n      <th>...</th>\n      <th>boreratio</th>\n      <th>stroke</th>\n      <th>compressionratio</th>\n      <th>horsepower</th>\n      <th>peakrpm</th>\n      <th>citympg</th>\n      <th>highwaympg</th>\n      <th>price</th>\n      <th>doornumber_four</th>\n      <th>doornumber_two</th>\n    </tr>\n  </thead>\n  <tbody>\n    <tr>\n      <th>0</th>\n      <td>1</td>\n      <td>3</td>\n      <td>alfa-romero giulia</td>\n      <td>gas</td>\n      <td>std</td>\n      <td>convertible</td>\n      <td>rwd</td>\n      <td>front</td>\n      <td>88.6</td>\n      <td>168.8</td>\n      <td>...</td>\n      <td>3.47</td>\n      <td>2.68</td>\n      <td>9.0</td>\n      <td>111</td>\n      <td>5000</td>\n      <td>21</td>\n      <td>27</td>\n      <td>13495.0</td>\n      <td>False</td>\n      <td>True</td>\n    </tr>\n    <tr>\n      <th>1</th>\n      <td>2</td>\n      <td>3</td>\n      <td>alfa-romero stelvio</td>\n      <td>gas</td>\n      <td>std</td>\n      <td>convertible</td>\n      <td>rwd</td>\n      <td>front</td>\n      <td>88.6</td>\n      <td>168.8</td>\n      <td>...</td>\n      <td>3.47</td>\n      <td>2.68</td>\n      <td>9.0</td>\n      <td>111</td>\n      <td>5000</td>\n      <td>21</td>\n      <td>27</td>\n      <td>16500.0</td>\n      <td>False</td>\n      <td>True</td>\n    </tr>\n    <tr>\n      <th>2</th>\n      <td>3</td>\n      <td>1</td>\n      <td>alfa-romero Quadrifoglio</td>\n      <td>gas</td>\n      <td>std</td>\n      <td>hatchback</td>\n      <td>rwd</td>\n      <td>front</td>\n      <td>94.5</td>\n      <td>171.2</td>\n      <td>...</td>\n      <td>2.68</td>\n      <td>3.47</td>\n      <td>9.0</td>\n      <td>154</td>\n      <td>5000</td>\n      <td>19</td>\n      <td>26</td>\n      <td>16500.0</td>\n      <td>False</td>\n      <td>True</td>\n    </tr>\n    <tr>\n      <th>3</th>\n      <td>4</td>\n      <td>2</td>\n      <td>audi 100 ls</td>\n      <td>gas</td>\n      <td>std</td>\n      <td>sedan</td>\n      <td>fwd</td>\n      <td>front</td>\n      <td>99.8</td>\n      <td>176.6</td>\n      <td>...</td>\n      <td>3.19</td>\n      <td>3.40</td>\n      <td>10.0</td>\n      <td>102</td>\n      <td>5500</td>\n      <td>24</td>\n      <td>30</td>\n      <td>13950.0</td>\n      <td>True</td>\n      <td>False</td>\n    </tr>\n    <tr>\n      <th>4</th>\n      <td>5</td>\n      <td>2</td>\n      <td>audi 100ls</td>\n      <td>gas</td>\n      <td>std</td>\n      <td>sedan</td>\n      <td>4wd</td>\n      <td>front</td>\n      <td>99.4</td>\n      <td>176.6</td>\n      <td>...</td>\n      <td>3.19</td>\n      <td>3.40</td>\n      <td>8.0</td>\n      <td>115</td>\n      <td>5500</td>\n      <td>18</td>\n      <td>22</td>\n      <td>17450.0</td>\n      <td>True</td>\n      <td>False</td>\n    </tr>\n    <tr>\n      <th>...</th>\n      <td>...</td>\n      <td>...</td>\n      <td>...</td>\n      <td>...</td>\n      <td>...</td>\n      <td>...</td>\n      <td>...</td>\n      <td>...</td>\n      <td>...</td>\n      <td>...</td>\n      <td>...</td>\n      <td>...</td>\n      <td>...</td>\n      <td>...</td>\n      <td>...</td>\n      <td>...</td>\n      <td>...</td>\n      <td>...</td>\n      <td>...</td>\n      <td>...</td>\n      <td>...</td>\n    </tr>\n    <tr>\n      <th>200</th>\n      <td>201</td>\n      <td>-1</td>\n      <td>volvo 145e (sw)</td>\n      <td>gas</td>\n      <td>std</td>\n      <td>sedan</td>\n      <td>rwd</td>\n      <td>front</td>\n      <td>109.1</td>\n      <td>188.8</td>\n      <td>...</td>\n      <td>3.78</td>\n      <td>3.15</td>\n      <td>9.5</td>\n      <td>114</td>\n      <td>5400</td>\n      <td>23</td>\n      <td>28</td>\n      <td>16845.0</td>\n      <td>True</td>\n      <td>False</td>\n    </tr>\n    <tr>\n      <th>201</th>\n      <td>202</td>\n      <td>-1</td>\n      <td>volvo 144ea</td>\n      <td>gas</td>\n      <td>turbo</td>\n      <td>sedan</td>\n      <td>rwd</td>\n      <td>front</td>\n      <td>109.1</td>\n      <td>188.8</td>\n      <td>...</td>\n      <td>3.78</td>\n      <td>3.15</td>\n      <td>8.7</td>\n      <td>160</td>\n      <td>5300</td>\n      <td>19</td>\n      <td>25</td>\n      <td>19045.0</td>\n      <td>True</td>\n      <td>False</td>\n    </tr>\n    <tr>\n      <th>202</th>\n      <td>203</td>\n      <td>-1</td>\n      <td>volvo 244dl</td>\n      <td>gas</td>\n      <td>std</td>\n      <td>sedan</td>\n      <td>rwd</td>\n      <td>front</td>\n      <td>109.1</td>\n      <td>188.8</td>\n      <td>...</td>\n      <td>3.58</td>\n      <td>2.87</td>\n      <td>8.8</td>\n      <td>134</td>\n      <td>5500</td>\n      <td>18</td>\n      <td>23</td>\n      <td>21485.0</td>\n      <td>True</td>\n      <td>False</td>\n    </tr>\n    <tr>\n      <th>203</th>\n      <td>204</td>\n      <td>-1</td>\n      <td>volvo 246</td>\n      <td>diesel</td>\n      <td>turbo</td>\n      <td>sedan</td>\n      <td>rwd</td>\n      <td>front</td>\n      <td>109.1</td>\n      <td>188.8</td>\n      <td>...</td>\n      <td>3.01</td>\n      <td>3.40</td>\n      <td>23.0</td>\n      <td>106</td>\n      <td>4800</td>\n      <td>26</td>\n      <td>27</td>\n      <td>22470.0</td>\n      <td>True</td>\n      <td>False</td>\n    </tr>\n    <tr>\n      <th>204</th>\n      <td>205</td>\n      <td>-1</td>\n      <td>volvo 264gl</td>\n      <td>gas</td>\n      <td>turbo</td>\n      <td>sedan</td>\n      <td>rwd</td>\n      <td>front</td>\n      <td>109.1</td>\n      <td>188.8</td>\n      <td>...</td>\n      <td>3.78</td>\n      <td>3.15</td>\n      <td>9.5</td>\n      <td>114</td>\n      <td>5400</td>\n      <td>19</td>\n      <td>25</td>\n      <td>22625.0</td>\n      <td>True</td>\n      <td>False</td>\n    </tr>\n  </tbody>\n</table>\n<p>205 rows × 27 columns</p>\n</div>"
     },
     "execution_count": 9,
     "metadata": {},
     "output_type": "execute_result"
    }
   ],
   "source": [
    "pd.get_dummies(data, columns=['doornumber'])"
   ],
   "metadata": {
    "collapsed": false,
    "ExecuteTime": {
     "end_time": "2024-11-12T09:49:12.359186100Z",
     "start_time": "2024-11-12T09:49:12.316573500Z"
    }
   },
   "id": "12e27c3473786fdf",
   "execution_count": 9
  },
  {
   "cell_type": "code",
   "outputs": [
    {
     "data": {
      "text/plain": "     car_ID  symboling  wheelbase  carlength  carwidth  carheight  curbweight  \\\n0         1          3       88.6      168.8      64.1       48.8        2548   \n1         2          3       88.6      168.8      64.1       48.8        2548   \n2         3          1       94.5      171.2      65.5       52.4        2823   \n3         4          2       99.8      176.6      66.2       54.3        2337   \n4         5          2       99.4      176.6      66.4       54.3        2824   \n..      ...        ...        ...        ...       ...        ...         ...   \n200     201         -1      109.1      188.8      68.9       55.5        2952   \n201     202         -1      109.1      188.8      68.8       55.5        3049   \n202     203         -1      109.1      188.8      68.9       55.5        3012   \n203     204         -1      109.1      188.8      68.9       55.5        3217   \n204     205         -1      109.1      188.8      68.9       55.5        3062   \n\n     enginesize  boreratio  stroke  ...  cylindernumber_twelve  \\\n0           130       3.47    2.68  ...                  False   \n1           130       3.47    2.68  ...                  False   \n2           152       2.68    3.47  ...                  False   \n3           109       3.19    3.40  ...                  False   \n4           136       3.19    3.40  ...                  False   \n..          ...        ...     ...  ...                    ...   \n200         141       3.78    3.15  ...                  False   \n201         141       3.78    3.15  ...                  False   \n202         173       3.58    2.87  ...                  False   \n203         145       3.01    3.40  ...                  False   \n204         141       3.78    3.15  ...                  False   \n\n     cylindernumber_two  fuelsystem_1bbl  fuelsystem_2bbl  fuelsystem_4bbl  \\\n0                 False            False            False            False   \n1                 False            False            False            False   \n2                 False            False            False            False   \n3                 False            False            False            False   \n4                 False            False            False            False   \n..                  ...              ...              ...              ...   \n200               False            False            False            False   \n201               False            False            False            False   \n202               False            False            False            False   \n203               False            False            False            False   \n204               False            False            False            False   \n\n     fuelsystem_idi  fuelsystem_mfi  fuelsystem_mpfi  fuelsystem_spdi  \\\n0             False           False             True            False   \n1             False           False             True            False   \n2             False           False             True            False   \n3             False           False             True            False   \n4             False           False             True            False   \n..              ...             ...              ...              ...   \n200           False           False             True            False   \n201           False           False             True            False   \n202           False           False             True            False   \n203            True           False            False            False   \n204           False           False             True            False   \n\n     fuelsystem_spfi  \n0              False  \n1              False  \n2              False  \n3              False  \n4              False  \n..               ...  \n200            False  \n201            False  \n202            False  \n203            False  \n204            False  \n\n[205 rows x 82 columns]",
      "text/html": "<div>\n<style scoped>\n    .dataframe tbody tr th:only-of-type {\n        vertical-align: middle;\n    }\n\n    .dataframe tbody tr th {\n        vertical-align: top;\n    }\n\n    .dataframe thead th {\n        text-align: right;\n    }\n</style>\n<table border=\"1\" class=\"dataframe\">\n  <thead>\n    <tr style=\"text-align: right;\">\n      <th></th>\n      <th>car_ID</th>\n      <th>symboling</th>\n      <th>wheelbase</th>\n      <th>carlength</th>\n      <th>carwidth</th>\n      <th>carheight</th>\n      <th>curbweight</th>\n      <th>enginesize</th>\n      <th>boreratio</th>\n      <th>stroke</th>\n      <th>...</th>\n      <th>cylindernumber_twelve</th>\n      <th>cylindernumber_two</th>\n      <th>fuelsystem_1bbl</th>\n      <th>fuelsystem_2bbl</th>\n      <th>fuelsystem_4bbl</th>\n      <th>fuelsystem_idi</th>\n      <th>fuelsystem_mfi</th>\n      <th>fuelsystem_mpfi</th>\n      <th>fuelsystem_spdi</th>\n      <th>fuelsystem_spfi</th>\n    </tr>\n  </thead>\n  <tbody>\n    <tr>\n      <th>0</th>\n      <td>1</td>\n      <td>3</td>\n      <td>88.6</td>\n      <td>168.8</td>\n      <td>64.1</td>\n      <td>48.8</td>\n      <td>2548</td>\n      <td>130</td>\n      <td>3.47</td>\n      <td>2.68</td>\n      <td>...</td>\n      <td>False</td>\n      <td>False</td>\n      <td>False</td>\n      <td>False</td>\n      <td>False</td>\n      <td>False</td>\n      <td>False</td>\n      <td>True</td>\n      <td>False</td>\n      <td>False</td>\n    </tr>\n    <tr>\n      <th>1</th>\n      <td>2</td>\n      <td>3</td>\n      <td>88.6</td>\n      <td>168.8</td>\n      <td>64.1</td>\n      <td>48.8</td>\n      <td>2548</td>\n      <td>130</td>\n      <td>3.47</td>\n      <td>2.68</td>\n      <td>...</td>\n      <td>False</td>\n      <td>False</td>\n      <td>False</td>\n      <td>False</td>\n      <td>False</td>\n      <td>False</td>\n      <td>False</td>\n      <td>True</td>\n      <td>False</td>\n      <td>False</td>\n    </tr>\n    <tr>\n      <th>2</th>\n      <td>3</td>\n      <td>1</td>\n      <td>94.5</td>\n      <td>171.2</td>\n      <td>65.5</td>\n      <td>52.4</td>\n      <td>2823</td>\n      <td>152</td>\n      <td>2.68</td>\n      <td>3.47</td>\n      <td>...</td>\n      <td>False</td>\n      <td>False</td>\n      <td>False</td>\n      <td>False</td>\n      <td>False</td>\n      <td>False</td>\n      <td>False</td>\n      <td>True</td>\n      <td>False</td>\n      <td>False</td>\n    </tr>\n    <tr>\n      <th>3</th>\n      <td>4</td>\n      <td>2</td>\n      <td>99.8</td>\n      <td>176.6</td>\n      <td>66.2</td>\n      <td>54.3</td>\n      <td>2337</td>\n      <td>109</td>\n      <td>3.19</td>\n      <td>3.40</td>\n      <td>...</td>\n      <td>False</td>\n      <td>False</td>\n      <td>False</td>\n      <td>False</td>\n      <td>False</td>\n      <td>False</td>\n      <td>False</td>\n      <td>True</td>\n      <td>False</td>\n      <td>False</td>\n    </tr>\n    <tr>\n      <th>4</th>\n      <td>5</td>\n      <td>2</td>\n      <td>99.4</td>\n      <td>176.6</td>\n      <td>66.4</td>\n      <td>54.3</td>\n      <td>2824</td>\n      <td>136</td>\n      <td>3.19</td>\n      <td>3.40</td>\n      <td>...</td>\n      <td>False</td>\n      <td>False</td>\n      <td>False</td>\n      <td>False</td>\n      <td>False</td>\n      <td>False</td>\n      <td>False</td>\n      <td>True</td>\n      <td>False</td>\n      <td>False</td>\n    </tr>\n    <tr>\n      <th>...</th>\n      <td>...</td>\n      <td>...</td>\n      <td>...</td>\n      <td>...</td>\n      <td>...</td>\n      <td>...</td>\n      <td>...</td>\n      <td>...</td>\n      <td>...</td>\n      <td>...</td>\n      <td>...</td>\n      <td>...</td>\n      <td>...</td>\n      <td>...</td>\n      <td>...</td>\n      <td>...</td>\n      <td>...</td>\n      <td>...</td>\n      <td>...</td>\n      <td>...</td>\n      <td>...</td>\n    </tr>\n    <tr>\n      <th>200</th>\n      <td>201</td>\n      <td>-1</td>\n      <td>109.1</td>\n      <td>188.8</td>\n      <td>68.9</td>\n      <td>55.5</td>\n      <td>2952</td>\n      <td>141</td>\n      <td>3.78</td>\n      <td>3.15</td>\n      <td>...</td>\n      <td>False</td>\n      <td>False</td>\n      <td>False</td>\n      <td>False</td>\n      <td>False</td>\n      <td>False</td>\n      <td>False</td>\n      <td>True</td>\n      <td>False</td>\n      <td>False</td>\n    </tr>\n    <tr>\n      <th>201</th>\n      <td>202</td>\n      <td>-1</td>\n      <td>109.1</td>\n      <td>188.8</td>\n      <td>68.8</td>\n      <td>55.5</td>\n      <td>3049</td>\n      <td>141</td>\n      <td>3.78</td>\n      <td>3.15</td>\n      <td>...</td>\n      <td>False</td>\n      <td>False</td>\n      <td>False</td>\n      <td>False</td>\n      <td>False</td>\n      <td>False</td>\n      <td>False</td>\n      <td>True</td>\n      <td>False</td>\n      <td>False</td>\n    </tr>\n    <tr>\n      <th>202</th>\n      <td>203</td>\n      <td>-1</td>\n      <td>109.1</td>\n      <td>188.8</td>\n      <td>68.9</td>\n      <td>55.5</td>\n      <td>3012</td>\n      <td>173</td>\n      <td>3.58</td>\n      <td>2.87</td>\n      <td>...</td>\n      <td>False</td>\n      <td>False</td>\n      <td>False</td>\n      <td>False</td>\n      <td>False</td>\n      <td>False</td>\n      <td>False</td>\n      <td>True</td>\n      <td>False</td>\n      <td>False</td>\n    </tr>\n    <tr>\n      <th>203</th>\n      <td>204</td>\n      <td>-1</td>\n      <td>109.1</td>\n      <td>188.8</td>\n      <td>68.9</td>\n      <td>55.5</td>\n      <td>3217</td>\n      <td>145</td>\n      <td>3.01</td>\n      <td>3.40</td>\n      <td>...</td>\n      <td>False</td>\n      <td>False</td>\n      <td>False</td>\n      <td>False</td>\n      <td>False</td>\n      <td>True</td>\n      <td>False</td>\n      <td>False</td>\n      <td>False</td>\n      <td>False</td>\n    </tr>\n    <tr>\n      <th>204</th>\n      <td>205</td>\n      <td>-1</td>\n      <td>109.1</td>\n      <td>188.8</td>\n      <td>68.9</td>\n      <td>55.5</td>\n      <td>3062</td>\n      <td>141</td>\n      <td>3.78</td>\n      <td>3.15</td>\n      <td>...</td>\n      <td>False</td>\n      <td>False</td>\n      <td>False</td>\n      <td>False</td>\n      <td>False</td>\n      <td>False</td>\n      <td>False</td>\n      <td>True</td>\n      <td>False</td>\n      <td>False</td>\n    </tr>\n  </tbody>\n</table>\n<p>205 rows × 82 columns</p>\n</div>"
     },
     "execution_count": 34,
     "metadata": {},
     "output_type": "execute_result"
    }
   ],
   "source": [
    "names = list(data['CarName'])\n",
    "dataCopy = data.assign(manufacturer=[x.split(' ')[0] for x in names])\n",
    "# [x for x in names if len(x.split(' ')) == 1]\n",
    "dataCopy = pd.get_dummies(dataCopy, columns=['fueltype', 'aspiration', 'doornumber', 'carbody', 'drivewheel', 'enginelocation', 'manufacturer', 'enginetype', 'cylindernumber', 'fuelsystem'])\n",
    "dataCopy = dataCopy.drop(['CarName'], axis=1)\n",
    "dataCopy"
   ],
   "metadata": {
    "collapsed": false,
    "ExecuteTime": {
     "end_time": "2024-11-12T10:45:05.235599200Z",
     "start_time": "2024-11-12T10:45:05.213272200Z"
    }
   },
   "id": "f7683cbad50dc568",
   "execution_count": 34
  },
  {
   "cell_type": "code",
   "outputs": [
    {
     "data": {
      "text/plain": "Index([], dtype='object')"
     },
     "execution_count": 35,
     "metadata": {},
     "output_type": "execute_result"
    }
   ],
   "source": [
    "dataCopy.columns[dataCopy.dtypes == 'object']"
   ],
   "metadata": {
    "collapsed": false,
    "ExecuteTime": {
     "end_time": "2024-11-12T10:45:13.765491500Z",
     "start_time": "2024-11-12T10:45:13.759756700Z"
    }
   },
   "id": "4814bee9b6fe9899",
   "execution_count": 35
  },
  {
   "cell_type": "code",
   "outputs": [],
   "source": [
    "from sklearn.linear_model import LinearRegression\n",
    "from sklearn.model_selection import train_test_split\n",
    "\n",
    "X_train, X_test, y_train, y_test = train_test_split(dataCopy.drop(['price'], axis=1), dataCopy['price'], test_size=0.2, random_state=0)"
   ],
   "metadata": {
    "collapsed": false,
    "ExecuteTime": {
     "end_time": "2024-11-12T10:45:16.639141800Z",
     "start_time": "2024-11-12T10:45:16.627146100Z"
    }
   },
   "id": "2fcc25e6f6ea3dcb",
   "execution_count": 36
  },
  {
   "cell_type": "code",
   "outputs": [
    {
     "name": "stdout",
     "output_type": "stream",
     "text": [
      "4      17450.0\n",
      "71     34184.0\n",
      "134    15040.0\n",
      "145    11259.0\n",
      "122     7609.0\n",
      "Name: price, dtype: float64\n",
      "52      6795.0\n",
      "181    15750.0\n",
      "5      15250.0\n",
      "18      5151.0\n",
      "188     9995.0\n",
      "Name: price, dtype: float64\n"
     ]
    }
   ],
   "source": [
    "print(y_train.head())\n",
    "print(y_test.head())\n"
   ],
   "metadata": {
    "collapsed": false,
    "ExecuteTime": {
     "end_time": "2024-11-12T10:31:15.644820Z",
     "start_time": "2024-11-12T10:31:15.630340400Z"
    }
   },
   "id": "1289f3f1ec9e83b2",
   "execution_count": 27
  },
  {
   "cell_type": "code",
   "outputs": [],
   "source": [],
   "metadata": {
    "collapsed": false
   },
   "id": "f152e831846fa341"
  },
  {
   "cell_type": "code",
   "outputs": [
    {
     "name": "stdout",
     "output_type": "stream",
     "text": [
      "rsc =  0.8105058209585637 mse =  14669949.245691482 mape =  0.1995167015706239 mae =  2371.472353419191\n",
      "[ 1.31416048e+02  3.38074750e+02  2.78472391e+02 -1.77291845e+02\n",
      "  4.32207660e+02 -8.85564594e+01  7.56824795e+00  5.72714144e+01\n",
      " -2.18472033e+03 -4.64694366e+02 -1.06486717e+03 -1.50480254e+01\n",
      "  2.29686668e+00  1.45098895e+02  6.01210373e+00  4.28021247e+03\n",
      " -4.28021247e+03 -9.54443186e+02  9.54443186e+02  5.08680766e+02\n",
      " -5.08680766e+02  2.20351928e+03 -6.64651832e+02 -3.90435206e+02\n",
      " -1.17183790e+02 -1.03124846e+03 -1.35263528e+03  1.93016263e+02\n",
      "  1.15961902e+03 -5.74003002e+03  5.74003002e+03 -4.04725142e-11\n",
      "  1.47847613e+04  1.36733114e+04  1.67440445e+04  7.85939005e+03\n",
      "  5.16470013e+03  3.94049381e+03  6.05082137e+03  2.85273537e+03\n",
      "  9.29289111e+03  2.72774017e+03  2.89996403e+03  9.72544903e+02\n",
      " -3.17098341e+03 -2.19569903e+03 -3.10247972e+03 -8.42454203e+03\n",
      "  2.26887055e+03  3.47115947e+03  3.97903932e-13 -3.04054436e+03\n",
      " -5.85372483e+03 -1.16586907e+04  0.00000000e+00 -1.33972049e+04\n",
      " -1.42088388e+04 -1.38267943e+04 -1.38239260e+04  2.77201665e+02\n",
      " -4.54747351e-13 -3.10247972e+03  1.59532520e+03 -1.13694805e+02\n",
      " -1.25613015e+03  2.59977781e+03  1.39792281e+03 -3.93434822e+03\n",
      " -2.65710779e+03 -1.71085762e+03  0.00000000e+00  4.30461302e+03\n",
      "  2.59977781e+03 -2.02617312e+03  7.60779994e+02 -2.03726902e+03\n",
      "  4.28021247e+03 -7.26096139e+02 -1.39644614e+02 -8.29792381e+02\n",
      "  7.17982810e+02]\n"
     ]
    }
   ],
   "source": [
    "import sklearn.metrics as skm\n",
    "\n",
    "lr = LinearRegression()\n",
    "lr.fit(X_train, y_train)\n",
    "y_pred = lr.predict(X_test)\n",
    "\n",
    "rsc = lr.score(X_test, y_test)\n",
    "mse = skm.mean_squared_error(y_test, y_pred)\n",
    "mape = skm.mean_absolute_percentage_error(y_test, y_pred)\n",
    "mae = skm.mean_absolute_error(y_test, y_pred)\n",
    "print('rsc = ', rsc, 'mse = ', mse, 'mape = ', mape, 'mae = ', mae)\n",
    "print(lr.coef_)"
   ],
   "metadata": {
    "collapsed": false,
    "ExecuteTime": {
     "end_time": "2024-11-12T10:46:15.488418Z",
     "start_time": "2024-11-12T10:46:15.257499500Z"
    }
   },
   "id": "3344e3dd40f8bb8b",
   "execution_count": 38
  },
  {
   "cell_type": "code",
   "outputs": [
    {
     "name": "stdout",
     "output_type": "stream",
     "text": [
      "Collecting statsmodels\n",
      "  Obtaining dependency information for statsmodels from https://files.pythonhosted.org/packages/59/9a/e466a1b887a1441141e52dbcc98152f013d85076576da6eed2357f2016ae/statsmodels-0.14.4-cp312-cp312-win_amd64.whl.metadata\n",
      "  Downloading statsmodels-0.14.4-cp312-cp312-win_amd64.whl.metadata (9.5 kB)\n",
      "Requirement already satisfied: numpy<3,>=1.22.3 in c:\\users\\300522\\documents\\github\\ml\\.venv\\lib\\site-packages (from statsmodels) (2.1.3)\n",
      "Requirement already satisfied: scipy!=1.9.2,>=1.8 in c:\\users\\300522\\documents\\github\\ml\\.venv\\lib\\site-packages (from statsmodels) (1.14.1)\n",
      "Requirement already satisfied: pandas!=2.1.0,>=1.4 in c:\\users\\300522\\documents\\github\\ml\\.venv\\lib\\site-packages (from statsmodels) (2.2.3)\n",
      "Collecting patsy>=0.5.6 (from statsmodels)\n",
      "  Obtaining dependency information for patsy>=0.5.6 from https://files.pythonhosted.org/packages/4f/a5/ef93cf4ad3da722a773b6da86921756582186e0bcc3dfabd2de63010444c/patsy-1.0.0-py2.py3-none-any.whl.metadata\n",
      "  Downloading patsy-1.0.0-py2.py3-none-any.whl.metadata (3.4 kB)\n",
      "Requirement already satisfied: packaging>=21.3 in c:\\users\\300522\\documents\\github\\ml\\.venv\\lib\\site-packages (from statsmodels) (24.2)\n",
      "Requirement already satisfied: python-dateutil>=2.8.2 in c:\\users\\300522\\documents\\github\\ml\\.venv\\lib\\site-packages (from pandas!=2.1.0,>=1.4->statsmodels) (2.9.0.post0)\n",
      "Requirement already satisfied: pytz>=2020.1 in c:\\users\\300522\\documents\\github\\ml\\.venv\\lib\\site-packages (from pandas!=2.1.0,>=1.4->statsmodels) (2024.2)\n",
      "Requirement already satisfied: tzdata>=2022.7 in c:\\users\\300522\\documents\\github\\ml\\.venv\\lib\\site-packages (from pandas!=2.1.0,>=1.4->statsmodels) (2024.2)\n",
      "Requirement already satisfied: six>=1.5 in c:\\users\\300522\\documents\\github\\ml\\.venv\\lib\\site-packages (from python-dateutil>=2.8.2->pandas!=2.1.0,>=1.4->statsmodels) (1.16.0)\n",
      "Downloading statsmodels-0.14.4-cp312-cp312-win_amd64.whl (9.8 MB)\n",
      "   ---------------------------------------- 0.0/9.8 MB ? eta -:--:--\n",
      "   ---------------------------------------- 0.0/9.8 MB ? eta -:--:--\n",
      "   ---------------------------------------- 0.0/9.8 MB ? eta -:--:--\n",
      "   ---------------------------------------- 0.0/9.8 MB ? eta -:--:--\n",
      "   ---------------------------------------- 0.0/9.8 MB 279.3 kB/s eta 0:00:36\n",
      "   ---------------------------------------- 0.1/9.8 MB 326.8 kB/s eta 0:00:30\n",
      "    --------------------------------------- 0.1/9.8 MB 479.3 kB/s eta 0:00:21\n",
      "    --------------------------------------- 0.1/9.8 MB 479.3 kB/s eta 0:00:21\n",
      "    --------------------------------------- 0.2/9.8 MB 565.6 kB/s eta 0:00:18\n",
      "   - -------------------------------------- 0.3/9.8 MB 714.4 kB/s eta 0:00:14\n",
      "   - -------------------------------------- 0.3/9.8 MB 654.2 kB/s eta 0:00:15\n",
      "   - -------------------------------------- 0.3/9.8 MB 654.2 kB/s eta 0:00:15\n",
      "   - -------------------------------------- 0.3/9.8 MB 595.3 kB/s eta 0:00:16\n",
      "   -- ------------------------------------- 0.6/9.8 MB 939.0 kB/s eta 0:00:10\n",
      "   -- ------------------------------------- 0.6/9.8 MB 950.3 kB/s eta 0:00:10\n",
      "   -- ------------------------------------- 0.6/9.8 MB 899.0 kB/s eta 0:00:11\n",
      "   -- ------------------------------------- 0.6/9.8 MB 903.1 kB/s eta 0:00:11\n",
      "   -- ------------------------------------- 0.7/9.8 MB 882.3 kB/s eta 0:00:11\n",
      "   -- ------------------------------------- 0.7/9.8 MB 903.5 kB/s eta 0:00:11\n",
      "   -- ------------------------------------- 0.7/9.8 MB 903.5 kB/s eta 0:00:11\n",
      "   -- ------------------------------------- 0.7/9.8 MB 804.5 kB/s eta 0:00:12\n",
      "   --- ------------------------------------ 0.8/9.8 MB 827.4 kB/s eta 0:00:11\n",
      "   --- ------------------------------------ 0.8/9.8 MB 827.4 kB/s eta 0:00:11\n",
      "   --- ------------------------------------ 0.8/9.8 MB 827.4 kB/s eta 0:00:11\n",
      "   --- ------------------------------------ 0.8/9.8 MB 827.4 kB/s eta 0:00:11\n",
      "   --- ------------------------------------ 0.8/9.8 MB 827.4 kB/s eta 0:00:11\n",
      "   --- ------------------------------------ 0.8/9.8 MB 827.4 kB/s eta 0:00:11\n",
      "   --- ------------------------------------ 0.8/9.8 MB 827.4 kB/s eta 0:00:11\n",
      "   --- ------------------------------------ 0.8/9.8 MB 827.4 kB/s eta 0:00:11\n",
      "   ----- ---------------------------------- 1.3/9.8 MB 987.0 kB/s eta 0:00:09\n",
      "   ----- ---------------------------------- 1.3/9.8 MB 987.0 kB/s eta 0:00:09\n",
      "   ----- ---------------------------------- 1.4/9.8 MB 965.0 kB/s eta 0:00:09\n",
      "   ----- ---------------------------------- 1.5/9.8 MB 1.0 MB/s eta 0:00:09\n",
      "   ------ --------------------------------- 1.5/9.8 MB 1.0 MB/s eta 0:00:09\n",
      "   ------ --------------------------------- 1.6/9.8 MB 1.0 MB/s eta 0:00:09\n",
      "   ------ --------------------------------- 1.6/9.8 MB 1.0 MB/s eta 0:00:09\n",
      "   ------ --------------------------------- 1.7/9.8 MB 1.0 MB/s eta 0:00:08\n",
      "   ------- -------------------------------- 1.8/9.8 MB 1.1 MB/s eta 0:00:08\n",
      "   ------- -------------------------------- 1.9/9.8 MB 1.1 MB/s eta 0:00:08\n",
      "   -------- ------------------------------- 2.1/9.8 MB 1.1 MB/s eta 0:00:07\n",
      "   -------- ------------------------------- 2.1/9.8 MB 1.2 MB/s eta 0:00:07\n",
      "   --------- ------------------------------ 2.2/9.8 MB 1.2 MB/s eta 0:00:07\n",
      "   --------- ------------------------------ 2.3/9.8 MB 1.2 MB/s eta 0:00:07\n",
      "   --------- ------------------------------ 2.3/9.8 MB 1.2 MB/s eta 0:00:07\n",
      "   --------- ------------------------------ 2.3/9.8 MB 1.2 MB/s eta 0:00:07\n",
      "   --------- ------------------------------ 2.3/9.8 MB 1.1 MB/s eta 0:00:07\n",
      "   ---------- ----------------------------- 2.7/9.8 MB 1.3 MB/s eta 0:00:06\n",
      "   ---------- ----------------------------- 2.7/9.8 MB 1.3 MB/s eta 0:00:06\n",
      "   ----------- ---------------------------- 2.7/9.8 MB 1.2 MB/s eta 0:00:06\n",
      "   ----------- ---------------------------- 2.7/9.8 MB 1.2 MB/s eta 0:00:06\n",
      "   ----------- ---------------------------- 2.8/9.8 MB 1.2 MB/s eta 0:00:06\n",
      "   ----------- ---------------------------- 2.8/9.8 MB 1.2 MB/s eta 0:00:06\n",
      "   ----------- ---------------------------- 2.8/9.8 MB 1.2 MB/s eta 0:00:06\n",
      "   ------------ --------------------------- 3.0/9.8 MB 1.2 MB/s eta 0:00:06\n",
      "   ------------ --------------------------- 3.2/9.8 MB 1.3 MB/s eta 0:00:06\n",
      "   ------------- -------------------------- 3.4/9.8 MB 1.3 MB/s eta 0:00:05\n",
      "   -------------- ------------------------- 3.5/9.8 MB 1.3 MB/s eta 0:00:05\n",
      "   -------------- ------------------------- 3.6/9.8 MB 1.4 MB/s eta 0:00:05\n",
      "   --------------- ------------------------ 3.8/9.8 MB 1.4 MB/s eta 0:00:05\n",
      "   --------------- ------------------------ 3.8/9.8 MB 1.4 MB/s eta 0:00:05\n",
      "   --------------- ------------------------ 3.8/9.8 MB 1.4 MB/s eta 0:00:05\n",
      "   ---------------- ----------------------- 4.0/9.8 MB 1.4 MB/s eta 0:00:05\n",
      "   ----------------- ---------------------- 4.3/9.8 MB 1.5 MB/s eta 0:00:04\n",
      "   ------------------ --------------------- 4.4/9.8 MB 1.5 MB/s eta 0:00:04\n",
      "   ------------------ --------------------- 4.6/9.8 MB 1.6 MB/s eta 0:00:04\n",
      "   ------------------- -------------------- 4.7/9.8 MB 1.6 MB/s eta 0:00:04\n",
      "   ------------------- -------------------- 4.9/9.8 MB 1.6 MB/s eta 0:00:04\n",
      "   -------------------- ------------------- 4.9/9.8 MB 1.6 MB/s eta 0:00:04\n",
      "   -------------------- ------------------- 4.9/9.8 MB 1.6 MB/s eta 0:00:04\n",
      "   -------------------- ------------------- 4.9/9.8 MB 1.6 MB/s eta 0:00:04\n",
      "   -------------------- ------------------- 5.0/9.8 MB 1.5 MB/s eta 0:00:04\n",
      "   -------------------- ------------------- 5.2/9.8 MB 1.6 MB/s eta 0:00:03\n",
      "   --------------------- ------------------ 5.3/9.8 MB 1.6 MB/s eta 0:00:03\n",
      "   ---------------------- ----------------- 5.6/9.8 MB 1.7 MB/s eta 0:00:03\n",
      "   ----------------------- ---------------- 5.7/9.8 MB 1.7 MB/s eta 0:00:03\n",
      "   ----------------------- ---------------- 5.8/9.8 MB 1.7 MB/s eta 0:00:03\n",
      "   ----------------------- ---------------- 5.8/9.8 MB 1.7 MB/s eta 0:00:03\n",
      "   ------------------------ --------------- 6.1/9.8 MB 1.7 MB/s eta 0:00:03\n",
      "   ------------------------- -------------- 6.2/9.8 MB 1.7 MB/s eta 0:00:03\n",
      "   -------------------------- ------------- 6.5/9.8 MB 1.8 MB/s eta 0:00:02\n",
      "   -------------------------- ------------- 6.6/9.8 MB 1.8 MB/s eta 0:00:02\n",
      "   --------------------------- ------------ 6.6/9.8 MB 1.8 MB/s eta 0:00:02\n",
      "   ---------------------------- ----------- 6.9/9.8 MB 1.8 MB/s eta 0:00:02\n",
      "   ---------------------------- ----------- 7.1/9.8 MB 1.9 MB/s eta 0:00:02\n",
      "   ---------------------------- ----------- 7.1/9.8 MB 1.9 MB/s eta 0:00:02\n",
      "   ----------------------------- ---------- 7.2/9.8 MB 1.8 MB/s eta 0:00:02\n",
      "   ------------------------------ --------- 7.5/9.8 MB 1.9 MB/s eta 0:00:02\n",
      "   ------------------------------- -------- 7.7/9.8 MB 1.9 MB/s eta 0:00:02\n",
      "   ------------------------------- -------- 7.8/9.8 MB 1.9 MB/s eta 0:00:02\n",
      "   -------------------------------- ------- 7.9/9.8 MB 1.9 MB/s eta 0:00:02\n",
      "   -------------------------------- ------- 8.0/9.8 MB 1.9 MB/s eta 0:00:01\n",
      "   --------------------------------- ------ 8.3/9.8 MB 2.0 MB/s eta 0:00:01\n",
      "   --------------------------------- ------ 8.3/9.8 MB 2.0 MB/s eta 0:00:01\n",
      "   --------------------------------- ------ 8.3/9.8 MB 2.0 MB/s eta 0:00:01\n",
      "   --------------------------------- ------ 8.3/9.8 MB 1.9 MB/s eta 0:00:01\n",
      "   ---------------------------------- ----- 8.4/9.8 MB 1.9 MB/s eta 0:00:01\n",
      "   ----------------------------------- ---- 8.8/9.8 MB 2.0 MB/s eta 0:00:01\n",
      "   ----------------------------------- ---- 8.8/9.8 MB 2.0 MB/s eta 0:00:01\n",
      "   ----------------------------------- ---- 8.8/9.8 MB 2.0 MB/s eta 0:00:01\n",
      "   ------------------------------------ --- 8.9/9.8 MB 1.9 MB/s eta 0:00:01\n",
      "   ------------------------------------ --- 8.9/9.8 MB 1.9 MB/s eta 0:00:01\n",
      "   ------------------------------------ --- 9.0/9.8 MB 1.9 MB/s eta 0:00:01\n",
      "   ------------------------------------ --- 9.1/9.8 MB 1.9 MB/s eta 0:00:01\n",
      "   ------------------------------------- -- 9.2/9.8 MB 1.9 MB/s eta 0:00:01\n",
      "   ------------------------------------- -- 9.2/9.8 MB 1.9 MB/s eta 0:00:01\n",
      "   ------------------------------------- -- 9.2/9.8 MB 1.9 MB/s eta 0:00:01\n",
      "   ------------------------------------- -- 9.2/9.8 MB 1.9 MB/s eta 0:00:01\n",
      "   ------------------------------------- -- 9.2/9.8 MB 1.9 MB/s eta 0:00:01\n",
      "   ------------------------------------- -- 9.2/9.8 MB 1.9 MB/s eta 0:00:01\n",
      "   ------------------------------------- -- 9.2/9.8 MB 1.9 MB/s eta 0:00:01\n",
      "   ------------------------------------- -- 9.2/9.8 MB 1.9 MB/s eta 0:00:01\n",
      "   ------------------------------------- -- 9.2/9.8 MB 1.9 MB/s eta 0:00:01\n",
      "   ---------------------------------------  9.8/9.8 MB 1.9 MB/s eta 0:00:01\n",
      "   ---------------------------------------  9.8/9.8 MB 1.9 MB/s eta 0:00:01\n",
      "   ---------------------------------------- 9.8/9.8 MB 1.9 MB/s eta 0:00:00\n",
      "Downloading patsy-1.0.0-py2.py3-none-any.whl (232 kB)\n",
      "   ---------------------------------------- 0.0/233.0 kB ? eta -:--:--\n",
      "   ----------------------------------- ---- 204.8/233.0 kB 6.3 MB/s eta 0:00:01\n",
      "   ---------------------------------------- 233.0/233.0 kB 4.7 MB/s eta 0:00:00\n",
      "Installing collected packages: patsy, statsmodels\n",
      "Successfully installed patsy-1.0.0 statsmodels-0.14.4\n"
     ]
    },
    {
     "name": "stderr",
     "output_type": "stream",
     "text": [
      "\n",
      "[notice] A new release of pip is available: 23.2.1 -> 24.3.1\n",
      "[notice] To update, run: python.exe -m pip install --upgrade pip\n"
     ]
    }
   ],
   "source": [
    "!pip install statsmodels"
   ],
   "metadata": {
    "collapsed": false,
    "ExecuteTime": {
     "end_time": "2024-11-12T10:53:56.608856700Z",
     "start_time": "2024-11-12T10:53:15.421350500Z"
    }
   },
   "id": "feca2ecf04433378",
   "execution_count": 40
  },
  {
   "cell_type": "code",
   "outputs": [
    {
     "name": "stdout",
     "output_type": "stream",
     "text": [
      "Collecting pytest\n",
      "  Obtaining dependency information for pytest from https://files.pythonhosted.org/packages/6b/77/7440a06a8ead44c7757a64362dd22df5760f9b12dc5f11b6188cd2fc27a0/pytest-8.3.3-py3-none-any.whl.metadata\n",
      "  Downloading pytest-8.3.3-py3-none-any.whl.metadata (7.5 kB)\n",
      "Collecting iniconfig (from pytest)\n",
      "  Obtaining dependency information for iniconfig from https://files.pythonhosted.org/packages/ef/a6/62565a6e1cf69e10f5727360368e451d4b7f58beeac6173dc9db836a5b46/iniconfig-2.0.0-py3-none-any.whl.metadata\n",
      "  Downloading iniconfig-2.0.0-py3-none-any.whl.metadata (2.6 kB)\n",
      "Requirement already satisfied: packaging in c:\\users\\300522\\documents\\github\\ml\\.venv\\lib\\site-packages (from pytest) (24.2)\n",
      "Collecting pluggy<2,>=1.5 (from pytest)\n",
      "  Obtaining dependency information for pluggy<2,>=1.5 from https://files.pythonhosted.org/packages/88/5f/e351af9a41f866ac3f1fac4ca0613908d9a41741cfcf2228f4ad853b697d/pluggy-1.5.0-py3-none-any.whl.metadata\n",
      "  Downloading pluggy-1.5.0-py3-none-any.whl.metadata (4.8 kB)\n",
      "Requirement already satisfied: colorama in c:\\users\\300522\\documents\\github\\ml\\.venv\\lib\\site-packages (from pytest) (0.4.6)\n",
      "Downloading pytest-8.3.3-py3-none-any.whl (342 kB)\n",
      "   ---------------------------------------- 0.0/342.3 kB ? eta -:--:--\n",
      "   ---------------------------------------- 0.0/342.3 kB ? eta -:--:--\n",
      "   ---------------------------------------- 0.0/342.3 kB ? eta -:--:--\n",
      "   ---- ----------------------------------- 41.0/342.3 kB ? eta -:--:--\n",
      "   ----------- ---------------------------- 102.4/342.3 kB 1.2 MB/s eta 0:00:01\n",
      "   ----------------- ---------------------- 153.6/342.3 kB 1.1 MB/s eta 0:00:01\n",
      "   ----------------------------- ---------- 256.0/342.3 kB 1.4 MB/s eta 0:00:01\n",
      "   ---------------------------------------- 342.3/342.3 kB 1.5 MB/s eta 0:00:00\n",
      "Downloading pluggy-1.5.0-py3-none-any.whl (20 kB)\n",
      "Downloading iniconfig-2.0.0-py3-none-any.whl (5.9 kB)\n",
      "Installing collected packages: pluggy, iniconfig, pytest\n",
      "Successfully installed iniconfig-2.0.0 pluggy-1.5.0 pytest-8.3.3\n"
     ]
    },
    {
     "name": "stderr",
     "output_type": "stream",
     "text": [
      "\n",
      "[notice] A new release of pip is available: 23.2.1 -> 24.3.1\n",
      "[notice] To update, run: python.exe -m pip install --upgrade pip\n"
     ]
    }
   ],
   "source": [
    "!pip install pytest"
   ],
   "metadata": {
    "collapsed": false,
    "ExecuteTime": {
     "end_time": "2024-11-12T10:54:30.562516300Z",
     "start_time": "2024-11-12T10:54:22.438234900Z"
    }
   },
   "id": "62b7bcae6a2c2b6d",
   "execution_count": 42
  },
  {
   "cell_type": "code",
   "outputs": [
    {
     "ename": "AttributeError",
     "evalue": "partially initialized module 'patsy' has no attribute 'constraint' (most likely due to a circular import)",
     "output_type": "error",
     "traceback": [
      "\u001B[1;31m---------------------------------------------------------------------------\u001B[0m",
      "\u001B[1;31mAttributeError\u001B[0m                            Traceback (most recent call last)",
      "Cell \u001B[1;32mIn[43], line 1\u001B[0m\n\u001B[1;32m----> 1\u001B[0m \u001B[38;5;28;01mimport\u001B[39;00m \u001B[38;5;21;01mstatsmodels\u001B[39;00m \u001B[38;5;28;01mas\u001B[39;00m \u001B[38;5;21;01msm\u001B[39;00m\n\u001B[0;32m      4\u001B[0m model \u001B[38;5;241m=\u001B[39m sm\u001B[38;5;241m.\u001B[39mOLS(X_train, y_train)\u001B[38;5;241m.\u001B[39mfit()\n\u001B[0;32m      6\u001B[0m \u001B[38;5;28mprint\u001B[39m(model\u001B[38;5;241m.\u001B[39msummary())\n",
      "File \u001B[1;32m~\\Documents\\GitHub\\ML\\.venv\\Lib\\site-packages\\statsmodels\\__init__.py:1\u001B[0m\n\u001B[1;32m----> 1\u001B[0m \u001B[38;5;28;01mfrom\u001B[39;00m \u001B[38;5;21;01mstatsmodels\u001B[39;00m\u001B[38;5;21;01m.\u001B[39;00m\u001B[38;5;21;01mcompat\u001B[39;00m\u001B[38;5;21;01m.\u001B[39;00m\u001B[38;5;21;01mpatsy\u001B[39;00m \u001B[38;5;28;01mimport\u001B[39;00m monkey_patch_cat_dtype\n\u001B[0;32m      3\u001B[0m \u001B[38;5;28;01mfrom\u001B[39;00m \u001B[38;5;21;01mstatsmodels\u001B[39;00m\u001B[38;5;21;01m.\u001B[39;00m\u001B[38;5;21;01m_version\u001B[39;00m \u001B[38;5;28;01mimport\u001B[39;00m __version__, __version_tuple__\n\u001B[0;32m      5\u001B[0m __version_info__ \u001B[38;5;241m=\u001B[39m __version_tuple__\n",
      "File \u001B[1;32m~\\Documents\\GitHub\\ML\\.venv\\Lib\\site-packages\\statsmodels\\compat\\patsy.py:4\u001B[0m\n\u001B[0;32m      1\u001B[0m \u001B[38;5;28;01mfrom\u001B[39;00m \u001B[38;5;21;01mstatsmodels\u001B[39;00m\u001B[38;5;21;01m.\u001B[39;00m\u001B[38;5;21;01mcompat\u001B[39;00m\u001B[38;5;21;01m.\u001B[39;00m\u001B[38;5;21;01mpandas\u001B[39;00m \u001B[38;5;28;01mimport\u001B[39;00m PD_LT_2\n\u001B[0;32m      3\u001B[0m \u001B[38;5;28;01mimport\u001B[39;00m \u001B[38;5;21;01mpandas\u001B[39;00m \u001B[38;5;28;01mas\u001B[39;00m \u001B[38;5;21;01mpd\u001B[39;00m\n\u001B[1;32m----> 4\u001B[0m \u001B[38;5;28;01mimport\u001B[39;00m \u001B[38;5;21;01mpatsy\u001B[39;00m\u001B[38;5;21;01m.\u001B[39;00m\u001B[38;5;21;01mutil\u001B[39;00m\n\u001B[0;32m      7\u001B[0m \u001B[38;5;28;01mdef\u001B[39;00m \u001B[38;5;21m_safe_is_pandas_categorical_dtype\u001B[39m(dt):\n\u001B[0;32m      8\u001B[0m     \u001B[38;5;28;01mif\u001B[39;00m PD_LT_2:\n",
      "File \u001B[1;32m~\\Documents\\GitHub\\ML\\.venv\\Lib\\site-packages\\patsy\\__init__.py:97\u001B[0m\n\u001B[0;32m     93\u001B[0m _reexport(patsy\u001B[38;5;241m.\u001B[39mbuild)\n\u001B[0;32m     95\u001B[0m \u001B[38;5;28;01mimport\u001B[39;00m \u001B[38;5;21;01mpatsy\u001B[39;00m\u001B[38;5;21;01m.\u001B[39;00m\u001B[38;5;21;01mconstraint\u001B[39;00m\n\u001B[1;32m---> 97\u001B[0m _reexport(\u001B[43mpatsy\u001B[49m\u001B[38;5;241;43m.\u001B[39;49m\u001B[43mconstraint\u001B[49m)\n\u001B[0;32m     99\u001B[0m \u001B[38;5;28;01mimport\u001B[39;00m \u001B[38;5;21;01mpatsy\u001B[39;00m\u001B[38;5;21;01m.\u001B[39;00m\u001B[38;5;21;01mcontrasts\u001B[39;00m\n\u001B[0;32m    101\u001B[0m _reexport(patsy\u001B[38;5;241m.\u001B[39mcontrasts)\n",
      "\u001B[1;31mAttributeError\u001B[0m: partially initialized module 'patsy' has no attribute 'constraint' (most likely due to a circular import)"
     ]
    }
   ],
   "source": [
    "import statsmodels as sm\n",
    "\n",
    "\n",
    "model = sm.OLS(X_train, y_train).fit()\n",
    "\n",
    "print(model.summary())"
   ],
   "metadata": {
    "collapsed": false,
    "ExecuteTime": {
     "end_time": "2024-11-12T10:54:35.186947Z",
     "start_time": "2024-11-12T10:54:34.323469Z"
    }
   },
   "id": "994a4a40ce281b38",
   "execution_count": 43
  },
  {
   "cell_type": "markdown",
   "source": [],
   "metadata": {
    "collapsed": false
   },
   "id": "f001b400e45f07bc"
  },
  {
   "cell_type": "markdown",
   "source": [
    "# analiza danych"
   ],
   "metadata": {
    "collapsed": false
   },
   "id": "896d35444e8b523b"
  },
  {
   "cell_type": "markdown",
   "source": [
    "# zmienne dummy"
   ],
   "metadata": {
    "collapsed": false
   },
   "id": "f955bc1e2ffae1d"
  },
  {
   "cell_type": "markdown",
   "source": [
    "# model + standaryzacja"
   ],
   "metadata": {
    "collapsed": false
   },
   "id": "1734c94136a315e2"
  },
  {
   "cell_type": "markdown",
   "source": [
    "# wybór cech do modelu"
   ],
   "metadata": {
    "collapsed": false
   },
   "id": "817a600a91fa9d83"
  },
  {
   "cell_type": "code",
   "outputs": [],
   "source": [],
   "metadata": {
    "collapsed": false
   },
   "id": "f55fc8cc8448811d"
  }
 ],
 "metadata": {
  "kernelspec": {
   "display_name": "Python 3",
   "language": "python",
   "name": "python3"
  },
  "language_info": {
   "codemirror_mode": {
    "name": "ipython",
    "version": 2
   },
   "file_extension": ".py",
   "mimetype": "text/x-python",
   "name": "python",
   "nbconvert_exporter": "python",
   "pygments_lexer": "ipython2",
   "version": "2.7.6"
  }
 },
 "nbformat": 4,
 "nbformat_minor": 5
}
